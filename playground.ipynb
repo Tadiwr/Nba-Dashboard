{
 "cells": [
  {
   "attachments": {},
   "cell_type": "markdown",
   "metadata": {},
   "source": [
    "# Example: Fetching Data From For the GSW"
   ]
  },
  {
   "cell_type": "code",
   "execution_count": 6,
   "metadata": {},
   "outputs": [
    {
     "data": {
      "text/plain": [
       "59.0"
      ]
     },
     "execution_count": 6,
     "metadata": {},
     "output_type": "execute_result"
    }
   ],
   "source": [
    "from data.repo import Repo\n",
    "from utils.visuals import Summerize\n",
    "\n",
    "team_data = Repo.teams.getTeamData(id=1)\n",
    "\n",
    "team_data.stats.games_played"
   ]
  },
  {
   "attachments": {},
   "cell_type": "markdown",
   "metadata": {},
   "source": [
    "# Displaying Information about the GSW"
   ]
  },
  {
   "cell_type": "code",
   "execution_count": null,
   "metadata": {},
   "outputs": [],
   "source": [
    "Summerize(team_data)"
   ]
  },
  {
   "cell_type": "code",
   "execution_count": null,
   "metadata": {},
   "outputs": [],
   "source": [
    "import requests as req\n",
    "import pandas as pd\n",
    "import json\n",
    "from IPython.core.display import JSON\n",
    "from data.models.team_model import TeamModel\n",
    "from data.repo import Repo\n",
    "\n",
    "url = \"http://site.api.espn.com/apis/site/v2/sports/basketball/nba/teams\"\n",
    "data = req.get(url).text\n",
    "\n",
    "# Serialize the JSON and only extract the Sports Atrribute\n",
    "data = json.loads(data)[\"sports\"]\n",
    "# Extract Leagues attribute\n",
    "leagues = data[0][\"leagues\"]\n",
    "\n",
    "# Extract the NBA\n",
    "league = leagues[0]\n",
    "# Get teams\n",
    "teams = league[\"teams\"]\n",
    "\n",
    "ids = []\n",
    "initials = []\n",
    "display_names = []\n",
    "    \n",
    "# Extract every teams name, initial, short name and display name\n",
    "for x in range(len(teams)):    \n",
    "    ids.append(int(teams[x][\"team\"][\"id\"]))\n",
    "    initials.append(teams[x][\"team\"][\"abbreviation\"])\n",
    "    display_names.append(teams[x][\"team\"][\"displayName\"])\n",
    "\n",
    "result = pd.DataFrame({\n",
    "    'Id':ids,\n",
    "    'Initial':initials,\n",
    "    'Display Name':display_names\n",
    "})\n",
    "\n",
    "results = result.sort_values('Id')\n",
    "\n",
    "results.to_csv()\n"
   ]
  },
  {
   "cell_type": "code",
   "execution_count": null,
   "metadata": {},
   "outputs": [],
   "source": [
    "team_id = Repo.static.getTeamIdByAbbr(abbr='ATL')\n",
    "team_id\n"
   ]
  }
 ],
 "metadata": {
  "kernelspec": {
   "display_name": "Python 3",
   "language": "python",
   "name": "python3"
  },
  "language_info": {
   "codemirror_mode": {
    "name": "ipython",
    "version": 3
   },
   "file_extension": ".py",
   "mimetype": "text/x-python",
   "name": "python",
   "nbconvert_exporter": "python",
   "pygments_lexer": "ipython3",
   "version": "3.11.1"
  },
  "orig_nbformat": 4,
  "vscode": {
   "interpreter": {
    "hash": "5238573367df39f7286bb46f9ff5f08f63a01a80960060ce41e3c79b190280fa"
   }
  }
 },
 "nbformat": 4,
 "nbformat_minor": 2
}
