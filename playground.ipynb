{
 "cells": [
  {
   "attachments": {},
   "cell_type": "markdown",
   "metadata": {},
   "source": [
    "# Example: Fetching Data From For the GSW"
   ]
  },
  {
   "cell_type": "code",
   "execution_count": 1,
   "metadata": {},
   "outputs": [
    {
     "data": {
      "text/plain": [
       "59"
      ]
     },
     "execution_count": 1,
     "metadata": {},
     "output_type": "execute_result"
    }
   ],
   "source": [
    "from data.repo import Repo\n",
    "from utils.visuals import Summerize\n",
    "\n",
    "team_data = Repo.teams.getTeamData(id=1)\n",
    "\n",
    "team_data.stats.games_played"
   ]
  },
  {
   "attachments": {},
   "cell_type": "markdown",
   "metadata": {},
   "source": [
    "### Displaying Information for the given team "
   ]
  },
  {
   "cell_type": "code",
   "execution_count": 3,
   "metadata": {},
   "outputs": [
    {
     "data": {
      "text/html": [
       "<div>\n",
       "<style scoped>\n",
       "    .dataframe tbody tr th:only-of-type {\n",
       "        vertical-align: middle;\n",
       "    }\n",
       "\n",
       "    .dataframe tbody tr th {\n",
       "        vertical-align: top;\n",
       "    }\n",
       "\n",
       "    .dataframe thead th {\n",
       "        text-align: right;\n",
       "    }\n",
       "</style>\n",
       "<table border=\"1\" class=\"dataframe\">\n",
       "  <thead>\n",
       "    <tr style=\"text-align: right;\">\n",
       "      <th></th>\n",
       "      <th>columns</th>\n",
       "      <th>data</th>\n",
       "    </tr>\n",
       "  </thead>\n",
       "  <tbody>\n",
       "    <tr>\n",
       "      <th>0</th>\n",
       "      <td>Full Name</td>\n",
       "      <td>Atlanta Hawks</td>\n",
       "    </tr>\n",
       "    <tr>\n",
       "      <th>1</th>\n",
       "      <td>Abbreviation</td>\n",
       "      <td>ATL</td>\n",
       "    </tr>\n",
       "    <tr>\n",
       "      <th>2</th>\n",
       "      <td>Division</td>\n",
       "      <td>Southeast Division</td>\n",
       "    </tr>\n",
       "    <tr>\n",
       "      <th>3</th>\n",
       "      <td>Location</td>\n",
       "      <td>Atlanta</td>\n",
       "    </tr>\n",
       "    <tr>\n",
       "      <th>4</th>\n",
       "      <td>Games Played</td>\n",
       "      <td>59</td>\n",
       "    </tr>\n",
       "    <tr>\n",
       "      <th>5</th>\n",
       "      <td>Win-Lose Record</td>\n",
       "      <td>29 - 30</td>\n",
       "    </tr>\n",
       "    <tr>\n",
       "      <th>6</th>\n",
       "      <td>Win Percentage</td>\n",
       "      <td>49.15254</td>\n",
       "    </tr>\n",
       "    <tr>\n",
       "      <th>7</th>\n",
       "      <td>Points Scored</td>\n",
       "      <td>6867</td>\n",
       "    </tr>\n",
       "  </tbody>\n",
       "</table>\n",
       "</div>"
      ],
      "text/plain": [
       "           columns                data\n",
       "0        Full Name       Atlanta Hawks\n",
       "1     Abbreviation                 ATL\n",
       "2         Division  Southeast Division\n",
       "3         Location             Atlanta\n",
       "4     Games Played                  59\n",
       "5  Win-Lose Record             29 - 30\n",
       "6   Win Percentage            49.15254\n",
       "7    Points Scored                6867"
      ]
     },
     "execution_count": 3,
     "metadata": {},
     "output_type": "execute_result"
    }
   ],
   "source": [
    "Summerize(team_data)"
   ]
  },
  {
   "cell_type": "code",
   "execution_count": null,
   "metadata": {},
   "outputs": [],
   "source": [
    "import requests as req\n",
    "import pandas as pd\n",
    "import json\n",
    "from IPython.core.display import JSON\n",
    "from data.models.team_model import TeamModel\n",
    "from data.repo import Repo\n",
    "\n",
    "url = \"http://site.api.espn.com/apis/site/v2/sports/basketball/nba/teams\"\n",
    "data = req.get(url).text\n",
    "\n",
    "# Serialize the JSON and only extract the Sports Atrribute\n",
    "data = json.loads(data)[\"sports\"]\n",
    "# Extract Leagues attribute\n",
    "leagues = data[0][\"leagues\"]\n",
    "\n",
    "# Extract the NBA\n",
    "league = leagues[0]\n",
    "# Get teams\n",
    "teams = league[\"teams\"]\n",
    "\n",
    "ids = []\n",
    "initials = []\n",
    "display_names = []\n",
    "    \n",
    "# Extract every teams name, initial, short name and display name\n",
    "for x in range(len(teams)):    \n",
    "    ids.append(int(teams[x][\"team\"][\"id\"]))\n",
    "    initials.append(teams[x][\"team\"][\"abbreviation\"])\n",
    "    display_names.append(teams[x][\"team\"][\"displayName\"])\n",
    "\n",
    "result = pd.DataFrame({\n",
    "    'Id':ids,\n",
    "    'Initial':initials,\n",
    "    'Display Name':display_names\n",
    "})\n",
    "\n",
    "results = result.sort_values('Id')\n",
    "\n",
    "results.to_csv()\n"
   ]
  },
  {
   "cell_type": "code",
   "execution_count": null,
   "metadata": {},
   "outputs": [],
   "source": [
    "team_id = Repo.static.getTeamIdByAbbr(abbr='ATL')\n",
    "team_id\n"
   ]
  }
 ],
 "metadata": {
  "kernelspec": {
   "display_name": "Python 3",
   "language": "python",
   "name": "python3"
  },
  "language_info": {
   "codemirror_mode": {
    "name": "ipython",
    "version": 3
   },
   "file_extension": ".py",
   "mimetype": "text/x-python",
   "name": "python",
   "nbconvert_exporter": "python",
   "pygments_lexer": "ipython3",
   "version": "3.11.1"
  },
  "orig_nbformat": 4,
  "vscode": {
   "interpreter": {
    "hash": "5238573367df39f7286bb46f9ff5f08f63a01a80960060ce41e3c79b190280fa"
   }
  }
 },
 "nbformat": 4,
 "nbformat_minor": 2
}
