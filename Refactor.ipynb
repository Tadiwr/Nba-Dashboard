{
 "cells": [
  {
   "cell_type": "code",
   "execution_count": 7,
   "metadata": {},
   "outputs": [
    {
     "data": {
      "text/plain": [
       "0                        NaN\n",
       "1              Atlanta Hawks\n",
       "2             Boston Celtics\n",
       "3       New Orleans Pelicans\n",
       "4              Chicago Bulls\n",
       "5        Cleveland Cavaliers\n",
       "6           Dallas Mavericks\n",
       "7             Denver Nuggets\n",
       "8            Detroit Pistons\n",
       "9      Golden State Warriors\n",
       "10           Houston Rockets\n",
       "11            Indiana Pacers\n",
       "12               LA Clippers\n",
       "13        Los Angeles Lakers\n",
       "14                Miami Heat\n",
       "15           Milwaukee Bucks\n",
       "16    Minnesota Timberwolves\n",
       "17             Brooklyn Nets\n",
       "18           New York Knicks\n",
       "19             Orlando Magic\n",
       "20        Philadelphia 76ers\n",
       "21              Phoenix Suns\n",
       "22    Portland Trail Blazers\n",
       "23          Sacramento Kings\n",
       "24         San Antonio Spurs\n",
       "25     Oklahoma City Thunder\n",
       "26                 Utah Jazz\n",
       "27        Washington Wizards\n",
       "28           Toronto Raptors\n",
       "29         Memphis Grizzlies\n",
       "30         Charlotte Hornets\n",
       "Name: Display Name, dtype: object"
      ]
     },
     "execution_count": 7,
     "metadata": {},
     "output_type": "execute_result"
    }
   ],
   "source": [
    "from data.repo import Repo as rp\n",
    "teamNames = rp.static.get_team_names()\n",
    "teamNames"
   ]
  },
  {
   "cell_type": "code",
   "execution_count": 28,
   "metadata": {},
   "outputs": [],
   "source": [
    "for x in range(1, 31):\n",
    "    rp.teams_api.getTeamData(x)"
   ]
  },
  {
   "cell_type": "code",
   "execution_count": 26,
   "metadata": {},
   "outputs": [],
   "source": [
    "def getTeamDataRec(x:int):\n",
    "    if x != 31:\n",
    "        rp.teams_api.getTeamData(x)\n",
    "        getTeamDataRec(x + 1)\n",
    "    \n",
    "getTeamDataRec(1)"
   ]
  }
 ],
 "metadata": {
  "kernelspec": {
   "display_name": "Python 3",
   "language": "python",
   "name": "python3"
  },
  "language_info": {
   "codemirror_mode": {
    "name": "ipython",
    "version": 3
   },
   "file_extension": ".py",
   "mimetype": "text/x-python",
   "name": "python",
   "nbconvert_exporter": "python",
   "pygments_lexer": "ipython3",
   "version": "3.11.1"
  },
  "orig_nbformat": 4,
  "vscode": {
   "interpreter": {
    "hash": "5238573367df39f7286bb46f9ff5f08f63a01a80960060ce41e3c79b190280fa"
   }
  }
 },
 "nbformat": 4,
 "nbformat_minor": 2
}
